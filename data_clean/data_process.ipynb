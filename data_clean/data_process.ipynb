{
 "cells": [
  {
   "cell_type": "markdown",
   "metadata": {},
   "source": [
    "## 数据导入\n",
    "背景：由于我们的数据有非常多的类型，langchain目前只支持txt，pdf，csv等普通文件的格式，当遇到音频，视频，带图片表格的文件时处理效果很差。\n",
    "因此，我们需要需要找到一个通用性强的数据处理库，能够处理各种类型的数据。"
   ]
  },
  {
   "cell_type": "markdown",
   "metadata": {
    "vscode": {
     "languageId": "plaintext"
    }
   },
   "source": [
    "# 数据处理平台"
   ]
  },
  {
   "cell_type": "markdown",
   "metadata": {
    "vscode": {
     "languageId": "plaintext"
    }
   },
   "source": [
    "## omniparse（https://github.com/adithya-s-k/omniparse）"
   ]
  },
  {
   "cell_type": "markdown",
   "metadata": {
    "vscode": {
     "languageId": "plaintext"
    }
   },
   "source": [
    "\n",
    "OmniParse 是一个开源的数据解析框架，旨在将各种非结构化数据转换为结构化格式，特别适用于生成式 AI 应用。其主要功能和特点包括：\n",
    "\n",
    "### 主要功能\n",
    "\n",
    "- 全能数据解析：OmniParse 能够处理多种类型的数据，包括文档、表格、图像、视频、音频文件和网页等，将它们转换为结构化的格式，以便于后续的 AI 应用（如 RAG 和模型微调）12。\n",
    "- 高效的数据预处理：该工具为 AI 应用提供清洁、结构化的数据准备，确保模型的最佳性能12。\n",
    "\n",
    "### 特点\n",
    "\n",
    "- 本地运行：OmniParse 可以在本地环境中运行，无需依赖外部 API，从而保护用户数据的隐私和安全性。\n",
    "- 广泛的文件支持：支持约 20 种文件类型，包括主流文档和多媒体格式，满足不同用户的需求。\n",
    "- 轻量级 GPU 需求：适配 T4 GPU，降低了硬件要求，使其能够在多种环境中部署。\n",
    "- 高质量输出：输出格式为结构化的 Markdown，便于后续的数据使用和分析。"
   ]
  },
  {
   "cell_type": "markdown",
   "metadata": {
    "vscode": {
     "languageId": "plaintext"
    }
   },
   "source": [
    "### 如何安装OmniParse？（如果觉得麻烦，可以直接进入colab直接运行尝试，效果好了再本地部署）\n",
    "https://colab.research.google.com/github/adithya-s-k/omniparse/blob/main/examples/OmniParse_GoogleColab.ipynb#scrollTo=U_l14xEFgKpV"
   ]
  },
  {
   "cell_type": "code",
   "execution_count": null,
   "metadata": {
    "vscode": {
     "languageId": "plaintext"
    }
   },
   "outputs": [],
   "source": [
    "git clone https://github.com/adithya-s-k/omniparse\n",
    "cd omniparse"
   ]
  },
  {
   "cell_type": "markdown",
   "metadata": {
    "vscode": {
     "languageId": "plaintext"
    }
   },
   "source": [
    "记得最后!python /content/server.py --host 127.0.0.1 --port 8000 --documents --media --web\n",
    "要把server.py文件路径修改为你的omniparse文件路径"
   ]
  },
  {
   "cell_type": "code",
   "execution_count": null,
   "metadata": {
    "vscode": {
     "languageId": "plaintext"
    }
   },
   "outputs": [],
   "source": [
    "!wget https://github.com/cloudflare/cloudflared/releases/latest/download/cloudflared-linux-amd64.deb\n",
    "!dpkg -i cloudflared-linux-amd64.deb\n",
    "\n",
    "import subprocess\n",
    "import threading\n",
    "import time\n",
    "import socket\n",
    "import urllib.request\n",
    "\n",
    "def iframe_thread(port):\n",
    "  while True:\n",
    "      time.sleep(0.5)\n",
    "      sock = socket.socket(socket.AF_INET, socket.SOCK_STREAM)\n",
    "      result = sock.connect_ex(('127.0.0.1', port))\n",
    "      if result == 0:\n",
    "        break\n",
    "      sock.close()\n",
    "  print(\"\\nOmniPrase API finished loading, trying to launch cloudflared (if it gets stuck here cloudflared is having issues)\\n\")\n",
    "\n",
    "  p = subprocess.Popen([\"cloudflared\", \"tunnel\", \"--url\", \"http://127.0.0.1:{}\".format(port)], stdout=subprocess.PIPE, stderr=subprocess.PIPE)\n",
    "  for line in p.stderr:\n",
    "    l = line.decode()\n",
    "    if \"trycloudflare.com \" in l:\n",
    "      print(\"This is the URL to access OmniPrase:\", l[l.find(\"http\"):], end='')\n",
    "    #print(l, end='')\n",
    "\n",
    "\n",
    "threading.Thread(target=iframe_thread, daemon=True, args=(8000,)).start()\n",
    "\n",
    "!python /content/omniparse/server.py --host 127.0.0.1 --port 8000 --documents --media --web"
   ]
  },
  {
   "cell_type": "markdown",
   "metadata": {
    "vscode": {
     "languageId": "plaintext"
    }
   },
   "source": [
    "### 支持的数据类型"
   ]
  },
  {
   "cell_type": "code",
   "execution_count": null,
   "metadata": {
    "vscode": {
     "languageId": "plaintext"
    }
   },
   "outputs": [],
   "source": [
    "OmniParse支持多种数据类型，包括：\n",
    "\n",
    "文档：.doc, .docx, .pdf, .ppt, .pptx\n",
    "图片：.png, .jpg, .jpeg, .tiff, .bmp, .heic\n",
    "视频：.mp4, .mkv, .avi, .mov\n",
    "音频：.mp3, .wav, .aac\n",
    "网页：动态网页, http://.com"
   ]
  }
 ],
 "metadata": {
  "language_info": {
   "name": "python"
  }
 },
 "nbformat": 4,
 "nbformat_minor": 2
}
